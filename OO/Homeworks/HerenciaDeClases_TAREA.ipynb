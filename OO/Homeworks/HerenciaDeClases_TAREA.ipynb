{
 "cells": [
  {
   "cell_type": "code",
   "execution_count": 55,
   "id": "920e8b1b-2556-49ba-ab65-af4e26dde750",
   "metadata": {},
   "outputs": [],
   "source": [
    "class Empleado:\n",
    "    salariobase:int\n",
    "    salario:int\n",
    "        \n",
    "    def __init__(self, nombre, puesto, antiguedad):\n",
    "        self.nombre=nombre\n",
    "        self.puesto=puesto\n",
    "        self.antiguedad= antiguedad\n",
    "        \n",
    "    def trabajar(self):\n",
    "        print(self.nombre+ \" es; \" + self.puesto + \" tiene \" + str(self.antiguedad) + \" años en la empresa\")\n",
    "        \n",
    "    def getsalario(self):\n",
    "        salario=self.salariobase + self.antiguedad*1000\n",
    "        print(\"El salario final es: \",salario)\n",
    "        \n",
    "class Programador(Empleado):\n",
    "    def __init__(self, nombre, puesto, antiguedad):\n",
    "        self.nombre=nombre\n",
    "        self.puesto=puesto\n",
    "        self.antiguedad= antiguedad\n",
    "        self.salariobase=25000\n",
    "class Gerente(Empleado):\n",
    "    def __init__(self, nombre, puesto, antiguedad):\n",
    "        self.nombre=nombre\n",
    "        self.puesto=puesto\n",
    "        self.antiguedad= antiguedad\n",
    "        self.salariobase=50000\n",
    "    def getsalario(self):\n",
    "        salario=self.salariobase\n",
    "        print(\"El salario final es: \",salario)\n",
    "    def cambiarsalario(self, empleado, nsalario):\n",
    "        empleado.salariobase = nsalario\n",
    "class Secretaria(Empleado):\n",
    "    def __init__(self, nombre, puesto, antiguedad):\n",
    "        self.nombre=nombre\n",
    "        self.puesto=puesto\n",
    "        self.antiguedad= antiguedad\n",
    "        self.salariobase=15000\n",
    "\n"
   ]
  },
  {
   "cell_type": "code",
   "execution_count": 56,
   "id": "1aac401f-db9d-4b25-b01b-d3b1fe4eea35",
   "metadata": {},
   "outputs": [
    {
     "name": "stdout",
     "output_type": "stream",
     "text": [
      "Gerardo es; Programador tiene 2 años en la empresa\n",
      "El salario final es:  27000\n"
     ]
    }
   ],
   "source": [
    "gerardo = Programador('Gerardo','Programador',2)\n",
    "gerardo.trabajar()\n",
    "gerardo.getsalario()"
   ]
  },
  {
   "cell_type": "code",
   "execution_count": 57,
   "id": "f5c8adec-483e-49d3-a608-47e14949fad5",
   "metadata": {},
   "outputs": [
    {
     "name": "stdout",
     "output_type": "stream",
     "text": [
      "Maria es; Secretaria tiene 3 años en la empresa\n",
      "El salario final es:  18000\n"
     ]
    }
   ],
   "source": [
    "esteban= Secretaria('Maria','Secretaria',3)\n",
    "esteban.trabajar()\n",
    "esteban.getsalario()"
   ]
  },
  {
   "cell_type": "code",
   "execution_count": 58,
   "id": "5524770d-fe93-4501-9d6c-a08c4e19f8ea",
   "metadata": {},
   "outputs": [
    {
     "name": "stdout",
     "output_type": "stream",
     "text": [
      "Adonis es; Gerente tiene 7 años en la empresa\n",
      "El salario final es:  50000\n"
     ]
    }
   ],
   "source": [
    "adonis= Gerente('Adonis','Gerente',7)\n",
    "adonis.trabajar()\n",
    "adonis.getsalario()"
   ]
  },
  {
   "cell_type": "code",
   "execution_count": 59,
   "id": "01d5fab7-0c45-4d5d-8276-55423d4d9d2d",
   "metadata": {},
   "outputs": [
    {
     "name": "stdout",
     "output_type": "stream",
     "text": [
      "Maria es; Secretaria tiene 3 años en la empresa\n",
      "El salario final es:  23000\n"
     ]
    }
   ],
   "source": [
    "adonis.cambiarsalario(esteban, 20000)\n",
    "esteban.trabajar()\n",
    "esteban.getsalario()"
   ]
  }
 ],
 "metadata": {
  "kernelspec": {
   "display_name": "Python 3 (ipykernel)",
   "language": "python",
   "name": "python3"
  },
  "language_info": {
   "codemirror_mode": {
    "name": "ipython",
    "version": 3
   },
   "file_extension": ".py",
   "mimetype": "text/x-python",
   "name": "python",
   "nbconvert_exporter": "python",
   "pygments_lexer": "ipython3",
   "version": "3.9.5"
  }
 },
 "nbformat": 4,
 "nbformat_minor": 5
}
