{
 "cells": [
  {
   "cell_type": "markdown",
   "id": "6e2c30e7-5571-4e33-8d6c-ab18bc1f3770",
   "metadata": {},
   "source": [
    "# Glosario de funciones"
   ]
  },
  {
   "cell_type": "markdown",
   "id": "b4f8b3a6-df75-4d75-a833-f3d534ad590a",
   "metadata": {},
   "source": [
    "__abs__: Valor absoluto"
   ]
  },
  {
   "cell_type": "code",
   "execution_count": 79,
   "id": "a1c18f75-65ae-4d4d-b63e-b40fea117949",
   "metadata": {},
   "outputs": [
    {
     "data": {
      "text/plain": [
       "5"
      ]
     },
     "execution_count": 79,
     "metadata": {},
     "output_type": "execute_result"
    }
   ],
   "source": [
    "    x=-5\n",
    "    abs(x)"
   ]
  },
  {
   "cell_type": "markdown",
   "id": "97c07b83-3966-443d-b4d3-b64b98e194aa",
   "metadata": {},
   "source": [
    "__all__: regresa verdadero si todos los valores son verdaderos\n",
    "- Bool: False es falso  \n",
    "- str: \"\" es falsa  \n",
    "- int: 0 es falso  \n",
    "- float: 0.0 es falso  \n",
    "- list:[] es falsa  "
   ]
  },
  {
   "cell_type": "code",
   "execution_count": 80,
   "id": "8df7a602-d8b6-4210-88b4-eede415e16ba",
   "metadata": {},
   "outputs": [
    {
     "name": "stdout",
     "output_type": "stream",
     "text": [
      "False\n"
     ]
    },
    {
     "data": {
      "text/plain": [
       "False"
      ]
     },
     "execution_count": 80,
     "metadata": {},
     "output_type": "execute_result"
    }
   ],
   "source": [
    "lista=[True, False, True, True]\n",
    "print(all(lista))\n",
    "\n",
    "lista2=[\"manzana\",\"pera\",\"banana\",\"\"]\n",
    "all(lista2)"
   ]
  },
  {
   "cell_type": "markdown",
   "id": "f01c9fe3-852b-42c2-829a-37ab8db98f47",
   "metadata": {},
   "source": [
    "any(): Regresa verdadero con que un valor de la lista sea verdadero"
   ]
  },
  {
   "cell_type": "code",
   "execution_count": 81,
   "id": "45d1f1e2-b5d3-4c27-ab0e-d4aae1babb75",
   "metadata": {},
   "outputs": [
    {
     "name": "stdout",
     "output_type": "stream",
     "text": [
      "False\n",
      "True\n"
     ]
    }
   ],
   "source": [
    "lista=[0,0,0,1,0,0,0]\n",
    "print(all(lista))\n",
    "print(any(lista))"
   ]
  },
  {
   "cell_type": "markdown",
   "id": "c1fac3bb-ddd6-486c-8da6-313b711a44bb",
   "metadata": {},
   "source": [
    "__ascii__: Convierte una cadena a codificación ascii"
   ]
  },
  {
   "cell_type": "code",
   "execution_count": 82,
   "id": "1dccd896-ab29-4484-995c-d0af1fadc413",
   "metadata": {},
   "outputs": [
    {
     "data": {
      "text/plain": [
       "\"'Jim\\\\xe9nez'\""
      ]
     },
     "execution_count": 82,
     "metadata": {},
     "output_type": "execute_result"
    }
   ],
   "source": [
    "s=\"Jiménez\"\n",
    "ascii(s)"
   ]
  },
  {
   "cell_type": "markdown",
   "id": "2112c0cd-352a-4767-8df2-f2c8e4f1262f",
   "metadata": {},
   "source": [
    "__bin__: Convierte a varlor binario (1,0) [regresa un str]"
   ]
  },
  {
   "cell_type": "code",
   "execution_count": 83,
   "id": "8f163a85-5a37-4cb9-a354-af4cbe2ea21a",
   "metadata": {},
   "outputs": [
    {
     "name": "stdout",
     "output_type": "stream",
     "text": [
      "0b1010\n",
      "0b10100\n",
      "0b10100b10100\n",
      "0b11110\n"
     ]
    }
   ],
   "source": [
    "x=10\n",
    "y=20\n",
    "print(bin(x))\n",
    "print(bin(y))\n",
    "print(bin(x)+bin(y)) #erroneo\n",
    "\n",
    "z=x+y\n",
    "print(bin(z)) #correcto\n"
   ]
  },
  {
   "cell_type": "markdown",
   "id": "bd90bf1a-db9f-4fb0-b90d-127ec2474f55",
   "metadata": {},
   "source": [
    "__bool__: Convierte a verdadero o falso"
   ]
  },
  {
   "cell_type": "code",
   "execution_count": 84,
   "id": "2b8116d9-85b1-4f52-9c1b-9db8b0f0d57c",
   "metadata": {},
   "outputs": [
    {
     "data": {
      "text/plain": [
       "True"
      ]
     },
     "execution_count": 84,
     "metadata": {},
     "output_type": "execute_result"
    }
   ],
   "source": [
    "bool(2)"
   ]
  },
  {
   "cell_type": "markdown",
   "id": "7a5bf949-53c6-4544-a9fa-ecade80ff079",
   "metadata": {},
   "source": [
    "__Complex()__: Números complejos"
   ]
  },
  {
   "cell_type": "code",
   "execution_count": 85,
   "id": "0d2a656c-6351-45ee-abe6-2fb1f9913713",
   "metadata": {},
   "outputs": [
    {
     "data": {
      "text/plain": [
       "(-0.5+2.5j)"
      ]
     },
     "execution_count": 85,
     "metadata": {},
     "output_type": "execute_result"
    }
   ],
   "source": [
    "complex(\"2+3j\")/complex(\"1-j\")"
   ]
  },
  {
   "cell_type": "markdown",
   "id": "e5a5a6d7-5ade-40e3-bc47-97158e89bec8",
   "metadata": {},
   "source": [
    "__dict()__: Genera un diccionario"
   ]
  },
  {
   "cell_type": "code",
   "execution_count": 86,
   "id": "7a41d2fd-b10b-4be3-b319-5333ec3ff472",
   "metadata": {},
   "outputs": [
    {
     "name": "stdout",
     "output_type": "stream",
     "text": [
      "El color favorito de Gerardo es naranja\n"
     ]
    }
   ],
   "source": [
    "favorito=dict()\n",
    "favorito[\"Renata\"]=\"azul\"\n",
    "favorito[\"Hector\"]=\"verde\"\n",
    "favorito[\"Gerardo\"]=\"naranja\"\n",
    "\n",
    "print(\"El color favorito de Gerardo es \" + favorito[\"Gerardo\"])"
   ]
  },
  {
   "cell_type": "markdown",
   "id": "7c219db1-f474-41dd-a139-6e2861f52b5c",
   "metadata": {},
   "source": [
    "__eval()__"
   ]
  },
  {
   "cell_type": "code",
   "execution_count": 87,
   "id": "039c3efc-ec4d-4045-a64c-3001be712103",
   "metadata": {},
   "outputs": [
    {
     "name": "stdin",
     "output_type": "stream",
     "text": [
      " 3/6\n"
     ]
    },
    {
     "data": {
      "text/plain": [
       "0.5"
      ]
     },
     "execution_count": 87,
     "metadata": {},
     "output_type": "execute_result"
    }
   ],
   "source": [
    "x=input()\n",
    "eval(x)"
   ]
  }
 ],
 "metadata": {
  "kernelspec": {
   "display_name": "Python 3 (ipykernel)",
   "language": "python",
   "name": "python3"
  },
  "language_info": {
   "codemirror_mode": {
    "name": "ipython",
    "version": 3
   },
   "file_extension": ".py",
   "mimetype": "text/x-python",
   "name": "python",
   "nbconvert_exporter": "python",
   "pygments_lexer": "ipython3",
   "version": "3.9.5"
  }
 },
 "nbformat": 4,
 "nbformat_minor": 5
}
